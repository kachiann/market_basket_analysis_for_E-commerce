{
 "cells": [
  {
   "cell_type": "markdown",
   "id": "8a5170d9",
   "metadata": {},
   "source": [
    "## Market Basket Analysis"
   ]
  },
  {
   "cell_type": "markdown",
   "id": "01c8dbfd",
   "metadata": {},
   "source": [
    "### Step 1: Importing the required libraries"
   ]
  },
  {
   "cell_type": "code",
   "execution_count": null,
   "id": "f6c170f3",
   "metadata": {},
   "outputs": [],
   "source": [
    "# Import necessary libraries\n",
    "import pandas as pd\n",
    "import matplotlib.pyplot as plt\n",
    "import seaborn as sns\n",
    "from mlxtend.preprocessing import TransactionEncoder\n",
    "from mlxtend.frequent_patterns import apriori, association_rules"
   ]
  },
  {
   "cell_type": "markdown",
   "id": "41de0e61",
   "metadata": {},
   "source": [
    "### Step 2: Loading and exploring the data"
   ]
  },
  {
   "cell_type": "code",
   "execution_count": null,
   "id": "398c63e5",
   "metadata": {},
   "outputs": [],
   "source": [
    "# Load the dataset\n",
    "file_path = 'groceries.csv'\n",
    "df = pd.read_csv(file_path)"
   ]
  },
  {
   "cell_type": "code",
   "execution_count": null,
   "id": "74652793",
   "metadata": {},
   "outputs": [],
   "source": [
    "# Display the first few rows of the dataset\n",
    "df.head(10)"
   ]
  },
  {
   "cell_type": "code",
   "execution_count": null,
   "id": "d8ea5984",
   "metadata": {},
   "outputs": [],
   "source": [
    "# Checking for missing values\n",
    "missing_values = df.isnull().sum()\n",
    "print(missing_values)"
   ]
  },
  {
   "cell_type": "code",
   "execution_count": null,
   "id": "63862803",
   "metadata": {},
   "outputs": [],
   "source": [
    "df.shape"
   ]
  },
  {
   "cell_type": "markdown",
   "id": "d7409c72",
   "metadata": {},
   "source": [
    "### Data Preparation for Market Basket Analysis\n",
    "\n",
    "The following step is a critical phase in the Market Basket Analysis process, where the raw transactional data is transformed into a suitable format for extracting meaningful insights.\n",
    "\n",
    "To do this, we must transform this data into a format suitable for seamless integration with the Apriori algorithm. Essentially, we aim to represent it in a tabular structure where ones and zeros denote the presence or absence of specific elements."
   ]
  },
  {
   "cell_type": "markdown",
   "id": "f8f27f0d",
   "metadata": {},
   "source": [
    "### Step 3: Converting the data into a suitable format for analysis"
   ]
  },
  {
   "cell_type": "code",
   "execution_count": null,
   "id": "4b59132b",
   "metadata": {},
   "outputs": [],
   "source": [
    "# 1. Split transaction strings (i.e., Items) into lists called transactions\n",
    "transactions = df['Items'].apply(lambda t: t.split(','))\n",
    "\n",
    "print(transactions)"
   ]
  },
  {
   "cell_type": "code",
   "execution_count": null,
   "id": "8343c866",
   "metadata": {},
   "outputs": [],
   "source": [
    "# 2. Convert DataFrame column into list of strings\n",
    "transactions = list(transactions)"
   ]
  },
  {
   "cell_type": "markdown",
   "id": "7fa9fada",
   "metadata": {},
   "source": [
    "### One-Hot Encoding and Apriori Algorithm\n",
    "Now we apply the TransactionEncoder which converts item lists into transaction data for frequent itemset mining. That is, we convert the list to a One-Hot Encoded Boolean list"
   ]
  },
  {
   "cell_type": "code",
   "execution_count": 1,
   "id": "d6a0d7d8",
   "metadata": {},
   "outputs": [
    {
     "ename": "NameError",
     "evalue": "name 'TransactionEncoder' is not defined",
     "output_type": "error",
     "traceback": [
      "\u001b[0;31m---------------------------------------------------------------------------\u001b[0m",
      "\u001b[0;31mNameError\u001b[0m                                 Traceback (most recent call last)",
      "Cell \u001b[0;32mIn[1], line 1\u001b[0m\n\u001b[0;32m----> 1\u001b[0m l \u001b[38;5;241m=\u001b[39m \u001b[43mTransactionEncoder\u001b[49m()\n",
      "\u001b[0;31mNameError\u001b[0m: name 'TransactionEncoder' is not defined"
     ]
    }
   ],
   "source": [
    "# Apply the Transaction Encoder\n",
    "l = TransactionEncoder()"
   ]
  },
  {
   "cell_type": "markdown",
   "id": "69ad3e86",
   "metadata": {},
   "source": [
    "The fit method of the TransactionEncoder learns the unique labels present in the dataset, and through the transform method, it converts the input dataset (a Python list of lists) into a NumPy boolean array using one-hot encoding."
   ]
  },
  {
   "cell_type": "code",
   "execution_count": null,
   "id": "1df71a02",
   "metadata": {},
   "outputs": [],
   "source": [
    "l_data = l.fit(transactions).transform(transactions)"
   ]
  },
  {
   "cell_type": "markdown",
   "id": "4a0e3e7d",
   "metadata": {},
   "source": [
    "Convert the encoded array into a pandas DataFrame:"
   ]
  },
  {
   "cell_type": "code",
   "execution_count": null,
   "id": "9a06687d",
   "metadata": {},
   "outputs": [],
   "source": [
    "df = pd.DataFrame(l_data,columns=l.columns_)\n",
    "df = df.replace(False,0)\n",
    "df"
   ]
  },
  {
   "cell_type": "code",
   "execution_count": null,
   "id": "921324ab",
   "metadata": {},
   "outputs": [],
   "source": [
    "# Apply Apriori algorithm to find frequent itemsets\n",
    "# Set a threshold value for the support value\n",
    "df = apriori(df, min_support = 0.01, use_colnames = True, verbose = 1)\n",
    "df"
   ]
  },
  {
   "cell_type": "code",
   "execution_count": null,
   "id": "3243d79b",
   "metadata": {},
   "outputs": [],
   "source": [
    "#Let's view our interpretation values using the Associan rule function.\n",
    "df_ar = association_rules(df, metric = \"confidence\", min_threshold = 0.7)\n",
    "df_ar"
   ]
  },
  {
   "cell_type": "markdown",
   "id": "776a7e45",
   "metadata": {},
   "source": [
    "The resulting table shows that the four most popular product combinations that are frequently bought together are:\n",
    "- cereals and whole milk\n",
    "- margarine, rolls/buns and\twhole milk\n",
    "- root vegetables, sausage\tand rolls/buns\n",
    "- Fruit/vegetable juice, whole milk and\tyogurt"
   ]
  },
  {
   "cell_type": "markdown",
   "id": "fb57fe33",
   "metadata": {},
   "source": [
    "For example, if we take a look at our 1st index value:\n",
    "- 80% of those who buys frozen dessert, buys whole milk as well.\n",
    "- Their correlation with each other is seen as 3.7."
   ]
  },
  {
   "cell_type": "code",
   "execution_count": null,
   "id": "e95b7196",
   "metadata": {},
   "outputs": [],
   "source": []
  }
 ],
 "metadata": {
  "kernelspec": {
   "display_name": "Python 3 (ipykernel)",
   "language": "python",
   "name": "python3"
  },
  "language_info": {
   "codemirror_mode": {
    "name": "ipython",
    "version": 3
   },
   "file_extension": ".py",
   "mimetype": "text/x-python",
   "name": "python",
   "nbconvert_exporter": "python",
   "pygments_lexer": "ipython3",
   "version": "3.10.9"
  }
 },
 "nbformat": 4,
 "nbformat_minor": 5
}
